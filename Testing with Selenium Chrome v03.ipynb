{
 "cells": [
  {
   "cell_type": "code",
   "execution_count": 1,
   "metadata": {
    "collapsed": true
   },
   "outputs": [],
   "source": [
    "from selenium import webdriver\n",
    "from selenium.webdriver.common.keys import Keys\n",
    "from selenium.webdriver.common.action_chains import ActionChains\n",
    "from selenium.webdriver.common.by import By\n",
    "from selenium.webdriver.support.ui import WebDriverWait\n",
    "from selenium.webdriver.support import expected_conditions as EC\n",
    "\n",
    "import pandas as pd\n",
    "import time"
   ]
  },
  {
   "cell_type": "markdown",
   "metadata": {},
   "source": [
    "Troubleshooting.\n",
    "\n",
    "To update Chromedriver download the latest version from \n",
    "https://sites.google.com/a/chromium.org/chromedriver/downloads\n",
    "\n",
    "and put it into /usr/local/bin"
   ]
  },
  {
   "cell_type": "code",
   "execution_count": 2,
   "metadata": {
    "collapsed": true
   },
   "outputs": [],
   "source": [
    "SHEET_NAME = 'prepared_sheet'\n",
    "BROWSER_LINK = 'https://your_link.com/'\n",
    "EMAIL = 'your_email@email.com'\n",
    "PASSWORD = 'your_password'\n",
    "SOURCE_LIB = r'/automation/'\n",
    "FILE_NAME = r'your_file'\n",
    "SIMULATION_PAGE = r'https://simulation_page.com/'"
   ]
  },
  {
   "cell_type": "code",
   "execution_count": 9,
   "metadata": {
    "collapsed": true
   },
   "outputs": [],
   "source": [
    "new_browser = webdriver.Chrome()"
   ]
  },
  {
   "cell_type": "code",
   "execution_count": 3,
   "metadata": {
    "collapsed": true
   },
   "outputs": [],
   "source": [
    "def automate(source_lib,browser,file_name,sheet_name,start_index,end_index):\n",
    "#     browser.get('BROWSER_LINK')\n",
    "\n",
    "#     try:\n",
    "#         element = WebDriverWait(browser, 10).until(\n",
    "#             EC.presence_of_element_located((By.NAME, \"EmailAddress\"))\n",
    "#         )\n",
    "#     except:\n",
    "#         print('Cannot load login page')\n",
    "\n",
    "#     email = browser.find_element_by_name('EmailAddress')\n",
    "#     email.send_keys(EMAIL)\n",
    "\n",
    "#     password = browser.find_element_by_name('Password')\n",
    "#     password.send_keys(PASSWORD + Keys.RETURN)\n",
    "\n",
    "#     time.sleep(8)\n",
    "    \n",
    "    alpha_xl = pd.ExcelFile(source_lib + file_name)\n",
    "    dataset = sheet_name\n",
    "    alpha_df = alpha_xl.parse(dataset)\n",
    "    \n",
    "    df = alpha_df.copy(deep=True).loc[0:len(alpha_df)]\n",
    "    \n",
    "    index = start_index\n",
    "    print('start index is', index)\n",
    "    if (end_index==-1) or (end_index>=len(df)):\n",
    "        end_index = len(df)\n",
    "    while index < end_index:\n",
    "        alpha = df.loc[index, 'alpha']\n",
    "        \n",
    "        print('loading simultation page')\n",
    "        \n",
    "        # Load simulate page\n",
    "        browser.get(SIMULATION_PAGE)\n",
    "\n",
    "        # Wait until insertion of the code is loaded\n",
    "        try:\n",
    "            element = WebDriverWait(browser, 20).until(\n",
    "                EC.presence_of_element_located((By.CLASS_NAME, \"CodeMirror-placeholder\"))\n",
    "            )\n",
    "        except:\n",
    "            print('Cannot load codeline')\n",
    "        finally:\n",
    "            # Insert the alpha code into the box\n",
    "            code_form = browser.find_element_by_class_name('CodeMirror-placeholder')\n",
    "            actions = ActionChains(browser)\n",
    "            actions.click(code_form)\n",
    "            alpha_code = alpha + '                 '\n",
    "            actions.send_keys(alpha_code)\n",
    "            actions.perform()\n",
    "\n",
    "            # Click the simulate button\n",
    "            browser.find_element_by_css_selector('.btn.btn-primary.btn-sm.sim-action-simulate').click()\n",
    "\n",
    "            # Wait until simulation completed\n",
    "            try:\n",
    "                element = WebDriverWait(browser, 400).until( # was 600\n",
    "                    EC.presence_of_element_located((By.CLASS_NAME, \"highcharts-container\"))\n",
    "                )\n",
    "            except:\n",
    "                print('Simulation too long')\n",
    "            finally:\n",
    "                time.sleep(2)\n",
    "                browser.save_screenshot(source_lib + r'screenshots/' + dataset + str(index) + r'PnL.png')\n",
    "                # Click stats tab and take a screenshot\n",
    "                stats = browser.find_element_by_id('test-statsBtn').click()\n",
    "                time.sleep(2)\n",
    "                browser.save_screenshot(source_lib + r'screenshots/' + dataset + str(index) + r'stat.png')\n",
    "\n",
    "                index += 1"
   ]
  },
  {
   "cell_type": "code",
   "execution_count": null,
   "metadata": {
    "collapsed": true
   },
   "outputs": [],
   "source": [
    "automate(SOURCE_LIB,new_browser,FILE_NAME,SHEET_NAME,0,-1)"
   ]
  },
  {
   "cell_type": "markdown",
   "metadata": {},
   "source": [
    "## Close the browser window"
   ]
  },
  {
   "cell_type": "code",
   "execution_count": null,
   "metadata": {
    "collapsed": true
   },
   "outputs": [],
   "source": [
    "browser.quit()"
   ]
  }
 ],
 "metadata": {
  "anaconda-cloud": {},
  "kernelspec": {
   "display_name": "Python [Root]",
   "language": "python",
   "name": "Python [Root]"
  },
  "language_info": {
   "codemirror_mode": {
    "name": "ipython",
    "version": 3
   },
   "file_extension": ".py",
   "mimetype": "text/x-python",
   "name": "python",
   "nbconvert_exporter": "python",
   "pygments_lexer": "ipython3",
   "version": "3.5.1"
  }
 },
 "nbformat": 4,
 "nbformat_minor": 1
}
